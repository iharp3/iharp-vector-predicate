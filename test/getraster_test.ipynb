{
 "cells": [
  {
   "cell_type": "code",
   "execution_count": 4,
   "metadata": {},
   "outputs": [],
   "source": [
    "import sys\n",
    "import os\n",
    "\n",
    "sys.path.append(\"../src\")\n",
    "from query_executor_get_raster import GetRasterExecutor\n",
    "from query_executor_geojson import GeoJsonExecutor\n",
    "\n",
    "variable = \"2m_temperature\"\n",
    "start_datetime = \"2020-01-01 00:00:00\"\n",
    "end_datetime = \"2023-12-31 23:00:00\"\n",
    "# inbound area\n",
    "max_lat = 83.6\n",
    "min_lat = 59.6\n",
    "min_lon = -73.4\n",
    "max_lon = -11.9\n",
    "temporal_resolution = \"year\"\n",
    "spatial_resolution = 0.25\n",
    "aggregation = \"mean\"\n",
    "geojson_file = \"../data/tri.geojson\"\n"
   ]
  },
  {
   "cell_type": "code",
   "execution_count": 5,
   "metadata": {},
   "outputs": [
    {
     "name": "stdout",
     "output_type": "stream",
     "text": [
      "<query_executor_get_raster.GetRasterExecutor object at 0x781521925ab0>\n",
      "local files: ['/data/agg/2m_temperature_GL_2015-2024_025year_mean.nc']\n",
      "api: []\n",
      "<xarray.Dataset> Size: 381kB\n",
      "Dimensions:     (valid_time: 4, latitude: 96, longitude: 246)\n",
      "Coordinates:\n",
      "    number      int64 8B 0\n",
      "  * latitude    (latitude) float64 768B 83.5 83.25 83.0 ... 60.25 60.0 59.75\n",
      "  * longitude   (longitude) float64 2kB -73.25 -73.0 -72.75 ... -12.25 -12.0\n",
      "  * valid_time  (valid_time) datetime64[ns] 32B 2020-12-31 ... 2023-12-31\n",
      "Data variables:\n",
      "    t2m         (valid_time, latitude, longitude) float32 378kB 258.4 ... 282.7\n",
      "Attributes:\n",
      "    GRIB_centre:             ecmf\n",
      "    GRIB_centreDescription:  European Centre for Medium-Range Weather Forecasts\n",
      "    GRIB_subCentre:          0\n",
      "    Conventions:             CF-1.7\n",
      "    institution:             European Centre for Medium-Range Weather Forecasts\n",
      "    history:                 2025-03-06T19:22 GRIB to CDM+CF via cfgrib-0.9.1...\n"
     ]
    }
   ],
   "source": [
    "raster = GetRasterExecutor(\n",
    "            variable=variable,\n",
    "            start_datetime=start_datetime,\n",
    "            end_datetime=end_datetime,\n",
    "            min_lat=min_lat,\n",
    "            max_lat=max_lat,\n",
    "            min_lon=min_lon,\n",
    "            max_lon=max_lon,\n",
    "            temporal_resolution=temporal_resolution,\n",
    "            spatial_resolution=spatial_resolution,\n",
    "            aggregation=aggregation\n",
    "        )\n",
    "\n",
    "print(raster)\n",
    "print(raster.execute())"
   ]
  }
 ],
 "metadata": {
  "kernelspec": {
   "display_name": "Python 3",
   "language": "python",
   "name": "python3"
  },
  "language_info": {
   "codemirror_mode": {
    "name": "ipython",
    "version": 3
   },
   "file_extension": ".py",
   "mimetype": "text/x-python",
   "name": "python",
   "nbconvert_exporter": "python",
   "pygments_lexer": "ipython3",
   "version": "3.10.12"
  },
  "orig_nbformat": 4
 },
 "nbformat": 4,
 "nbformat_minor": 2
}
