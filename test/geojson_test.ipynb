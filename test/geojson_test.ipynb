{
 "cells": [
  {
   "cell_type": "code",
   "execution_count": 3,
   "metadata": {},
   "outputs": [],
   "source": [
    "import sys\n",
    "import os\n",
    "\n",
    "sys.path.append(\"../src\")\n",
    "from query_executor_get_raster import GetRasterExecutor\n",
    "from query_executor_geojson import GeoJsonExecutor\n",
    "\n",
    "variable = \"2m_temperature\"\n",
    "start_datetime = \"2020-01-01 00:00:00\"\n",
    "end_datetime = \"2023-12-31 23:00:00\"\n",
    "# inbound area\n",
    "max_lat = 9\n",
    "min_lat = 1\n",
    "min_lon = 6\n",
    "max_lon = 14\n",
    "temporal_resolution = \"year\"\n",
    "spatial_resolution = 0.25\n",
    "aggregation = \"max\"\n",
    "geojson_file = \"../data/formatted_greenland.geojson\"\n"
   ]
  },
  {
   "cell_type": "code",
   "execution_count": 4,
   "metadata": {},
   "outputs": [
    {
     "name": "stdout",
     "output_type": "stream",
     "text": [
      "local files: ['/data/agg/2m_temperature_GL_2015-2024_025year_max.nc']\n",
      "api: []\n"
     ]
    },
    {
     "ename": "KeyboardInterrupt",
     "evalue": "",
     "output_type": "error",
     "traceback": [
      "\u001b[0;31m---------------------------------------------------------------------------\u001b[0m",
      "\u001b[0;31mKeyboardInterrupt\u001b[0m                         Traceback (most recent call last)",
      "Cell \u001b[0;32mIn[4], line 11\u001b[0m\n\u001b[1;32m      1\u001b[0m geojson \u001b[39m=\u001b[39m GeoJsonExecutor(\n\u001b[1;32m      2\u001b[0m     variable\u001b[39m=\u001b[39mvariable,\n\u001b[1;32m      3\u001b[0m     start_datetime\u001b[39m=\u001b[39mstart_datetime,\n\u001b[0;32m   (...)\u001b[0m\n\u001b[1;32m      8\u001b[0m     geojson_file\u001b[39m=\u001b[39mgeojson_file,\n\u001b[1;32m      9\u001b[0m )\n\u001b[0;32m---> 11\u001b[0m geojson_data \u001b[39m=\u001b[39m geojson\u001b[39m.\u001b[39;49mexecute()\n\u001b[1;32m     12\u001b[0m \u001b[39mprint\u001b[39m(geojson_data)\n",
      "File \u001b[0;32m~/iharp-vector-predicate/test/../src/query_executor_geojson.py:106\u001b[0m, in \u001b[0;36mGeoJsonExecutor.execute\u001b[0;34m(self)\u001b[0m\n\u001b[1;32m     92\u001b[0m min_lon, min_lat, max_lon, max_lat \u001b[39m=\u001b[39m \u001b[39mself\u001b[39m\u001b[39m.\u001b[39m_create_boudning_box(coords[\u001b[39m0\u001b[39m])\n\u001b[1;32m     93\u001b[0m raster \u001b[39m=\u001b[39m GetRasterExecutor(\n\u001b[1;32m     94\u001b[0m     variable\u001b[39m=\u001b[39m\u001b[39mself\u001b[39m\u001b[39m.\u001b[39mvariable,\n\u001b[1;32m     95\u001b[0m     start_datetime\u001b[39m=\u001b[39m\u001b[39mself\u001b[39m\u001b[39m.\u001b[39mstart_datetime,\n\u001b[0;32m   (...)\u001b[0m\n\u001b[1;32m    103\u001b[0m     aggregation\u001b[39m=\u001b[39m\u001b[39mself\u001b[39m\u001b[39m.\u001b[39maggregation\n\u001b[1;32m    104\u001b[0m )\n\u001b[0;32m--> 106\u001b[0m \u001b[39mreturn\u001b[39;00m \u001b[39mself\u001b[39;49m\u001b[39m.\u001b[39;49m_mask_raster_data(raster\u001b[39m.\u001b[39;49mexecute(), polygon)\n",
      "File \u001b[0;32m~/iharp-vector-predicate/test/../src/query_executor_geojson.py:79\u001b[0m, in \u001b[0;36mGeoJsonExecutor._mask_raster_data\u001b[0;34m(self, raster, polygon)\u001b[0m\n\u001b[1;32m     77\u001b[0m \u001b[39mfor\u001b[39;00m lon, lat \u001b[39min\u001b[39;00m points:\n\u001b[1;32m     78\u001b[0m     point \u001b[39m=\u001b[39m shapely\u001b[39m.\u001b[39mgeometry\u001b[39m.\u001b[39mPoint(lon, lat)\n\u001b[0;32m---> 79\u001b[0m     in_polygon \u001b[39m=\u001b[39m polygon\u001b[39m.\u001b[39;49mcontains(point)\n\u001b[1;32m     80\u001b[0m     mask\u001b[39m.\u001b[39mappend(in_polygon)\n\u001b[1;32m     82\u001b[0m mask \u001b[39m=\u001b[39m np\u001b[39m.\u001b[39marray(mask)\n",
      "File \u001b[0;32m~/.local/lib/python3.10/site-packages/shapely/geometry/base.py:675\u001b[0m, in \u001b[0;36mBaseGeometry.contains\u001b[0;34m(self, other)\u001b[0m\n\u001b[1;32m    673\u001b[0m \u001b[39mdef\u001b[39;00m\u001b[39m \u001b[39m\u001b[39mcontains\u001b[39m(\u001b[39mself\u001b[39m, other):\n\u001b[1;32m    674\u001b[0m \u001b[39m    \u001b[39m\u001b[39m\"\"\"Returns True if the geometry contains the other, else False\"\"\"\u001b[39;00m\n\u001b[0;32m--> 675\u001b[0m     \u001b[39mreturn\u001b[39;00m _maybe_unpack(shapely\u001b[39m.\u001b[39;49mcontains(\u001b[39mself\u001b[39;49m, other))\n",
      "File \u001b[0;32m~/.local/lib/python3.10/site-packages/shapely/decorators.py:77\u001b[0m, in \u001b[0;36mmultithreading_enabled.<locals>.wrapped\u001b[0;34m(*args, **kwargs)\u001b[0m\n\u001b[1;32m     75\u001b[0m     \u001b[39mfor\u001b[39;00m arr \u001b[39min\u001b[39;00m array_args:\n\u001b[1;32m     76\u001b[0m         arr\u001b[39m.\u001b[39mflags\u001b[39m.\u001b[39mwriteable \u001b[39m=\u001b[39m \u001b[39mFalse\u001b[39;00m\n\u001b[0;32m---> 77\u001b[0m     \u001b[39mreturn\u001b[39;00m func(\u001b[39m*\u001b[39;49margs, \u001b[39m*\u001b[39;49m\u001b[39m*\u001b[39;49mkwargs)\n\u001b[1;32m     78\u001b[0m \u001b[39mfinally\u001b[39;00m:\n\u001b[1;32m     79\u001b[0m     \u001b[39mfor\u001b[39;00m arr, old_flag \u001b[39min\u001b[39;00m \u001b[39mzip\u001b[39m(array_args, old_flags):\n",
      "File \u001b[0;32m~/.local/lib/python3.10/site-packages/shapely/predicates.py:526\u001b[0m, in \u001b[0;36mcontains\u001b[0;34m(a, b, **kwargs)\u001b[0m\n\u001b[1;32m    472\u001b[0m \u001b[39m@multithreading_enabled\u001b[39m\n\u001b[1;32m    473\u001b[0m \u001b[39mdef\u001b[39;00m\u001b[39m \u001b[39m\u001b[39mcontains\u001b[39m(a, b, \u001b[39m*\u001b[39m\u001b[39m*\u001b[39mkwargs):\n\u001b[1;32m    474\u001b[0m \u001b[39m    \u001b[39m\u001b[39m\"\"\"Returns True if geometry B is completely inside geometry A.\u001b[39;00m\n\u001b[1;32m    475\u001b[0m \n\u001b[1;32m    476\u001b[0m \u001b[39m    A contains B if no points of B lie in the exterior of A and at least one\u001b[39;00m\n\u001b[0;32m   (...)\u001b[0m\n\u001b[1;32m    524\u001b[0m \u001b[39m    False\u001b[39;00m\n\u001b[1;32m    525\u001b[0m \u001b[39m    \"\"\"\u001b[39;00m\n\u001b[0;32m--> 526\u001b[0m     \u001b[39mreturn\u001b[39;00m lib\u001b[39m.\u001b[39;49mcontains(a, b, \u001b[39m*\u001b[39;49m\u001b[39m*\u001b[39;49mkwargs)\n",
      "\u001b[0;31mKeyboardInterrupt\u001b[0m: "
     ]
    }
   ],
   "source": [
    "\n",
    "geojson = GeoJsonExecutor(\n",
    "    variable=variable,\n",
    "    start_datetime=start_datetime,\n",
    "    end_datetime=end_datetime,\n",
    "    temporal_resolution=temporal_resolution,\n",
    "    spatial_resolution=spatial_resolution,\n",
    "    aggregation=aggregation,\n",
    "    geojson_file=geojson_file,\n",
    ")\n",
    "\n",
    "geojson_data = geojson.execute()\n",
    "print(geojson_data)"
   ]
  },
  {
   "cell_type": "code",
   "execution_count": null,
   "metadata": {},
   "outputs": [],
   "source": []
  },
  {
   "cell_type": "markdown",
   "metadata": {},
   "source": []
  },
  {
   "cell_type": "code",
   "execution_count": null,
   "metadata": {},
   "outputs": [],
   "source": []
  }
 ],
 "metadata": {
  "kernelspec": {
   "display_name": "Python 3",
   "language": "python",
   "name": "python3"
  },
  "language_info": {
   "codemirror_mode": {
    "name": "ipython",
    "version": 3
   },
   "file_extension": ".py",
   "mimetype": "text/x-python",
   "name": "python",
   "nbconvert_exporter": "python",
   "pygments_lexer": "ipython3",
   "version": "3.10.12"
  },
  "orig_nbformat": 4
 },
 "nbformat": 4,
 "nbformat_minor": 2
}
