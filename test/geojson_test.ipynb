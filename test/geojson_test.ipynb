{
 "cells": [
  {
   "cell_type": "code",
   "execution_count": 1,
   "metadata": {},
   "outputs": [],
   "source": [
    "import sys\n",
    "import os\n",
    "\n",
    "sys.path.append(\"../src\")\n",
    "from query_executor_get_raster import GetRasterExecutor\n",
    "from query_executor_geojson import GeoJsonExecutor\n",
    "\n",
    "variable = \"2m_temperature\"\n",
    "start_datetime = \"2020-01-01 00:00:00\"\n",
    "end_datetime = \"2023-12-31 23:00:00\"\n",
    "# inbound area\n",
    "max_lat = 9\n",
    "min_lat = 1\n",
    "min_lon = 6\n",
    "max_lon = 14\n",
    "temporal_resolution = \"year\"\n",
    "spatial_resolution = 0.25\n",
    "aggregation = \"max\"\n",
    "geojson_file = \"../data/tri.geojson\"\n"
   ]
  },
  {
   "cell_type": "code",
   "execution_count": 4,
   "metadata": {},
   "outputs": [
    {
     "name": "stdout",
     "output_type": "stream",
     "text": [
      "max\n",
      "local files: ['/data/agg/2m_temperature_GL_2015-2024_025year_max.nc']\n",
      "api: []\n",
      "<xarray.DataArray 'latitude' ()> Size: 8B\n",
      "array(80.)\n",
      "Coordinates:\n",
      "    number    int64 8B 0\n",
      "    latitude  float64 8B 80.0\n",
      "Attributes:\n",
      "    units:             degrees_north\n",
      "    standard_name:     latitude\n",
      "    long_name:         latitude\n",
      "    stored_direction:  decreasing\n"
     ]
    }
   ],
   "source": [
    "\n",
    "geojson = GeoJsonExecutor(\n",
    "    variable=variable,\n",
    "    start_datetime=start_datetime,\n",
    "    end_datetime=end_datetime,\n",
    "    temporal_resolution=temporal_resolution,\n",
    "    spatial_resolution=spatial_resolution,\n",
    "    aggregation=aggregation,\n",
    "    geojson_file=geojson_file,\n",
    ")\n",
    "\n",
    "geojson_data = geojson.execute()\n",
    "print(geojson_data[\"latitude\"][0])"
   ]
  },
  {
   "cell_type": "code",
   "execution_count": null,
   "metadata": {},
   "outputs": [],
   "source": []
  },
  {
   "cell_type": "markdown",
   "metadata": {},
   "source": []
  },
  {
   "cell_type": "code",
   "execution_count": null,
   "metadata": {},
   "outputs": [],
   "source": []
  }
 ],
 "metadata": {
  "kernelspec": {
   "display_name": "Python 3",
   "language": "python",
   "name": "python3"
  },
  "language_info": {
   "codemirror_mode": {
    "name": "ipython",
    "version": 3
   },
   "file_extension": ".py",
   "mimetype": "text/x-python",
   "name": "python",
   "nbconvert_exporter": "python",
   "pygments_lexer": "ipython3",
   "version": "3.10.12"
  },
  "orig_nbformat": 4
 },
 "nbformat": 4,
 "nbformat_minor": 2
}
